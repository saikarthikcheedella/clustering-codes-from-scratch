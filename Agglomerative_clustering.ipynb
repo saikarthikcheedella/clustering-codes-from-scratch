{
  "nbformat": 4,
  "nbformat_minor": 0,
  "metadata": {
    "colab": {
      "name": "Agglomerative_clustering.ipynb",
      "provenance": [],
      "collapsed_sections": [],
      "toc_visible": true
    },
    "kernelspec": {
      "name": "python3",
      "display_name": "Python 3"
    },
    "accelerator": "GPU"
  },
  "cells": [
    {
      "cell_type": "markdown",
      "metadata": {
        "id": "5uMQBdqjCX0a",
        "colab_type": "text"
      },
      "source": [
        "# **Clustering using Agglomerative algorithm**"
      ]
    },
    {
      "cell_type": "code",
      "metadata": {
        "id": "dYJs8pn9oaEo",
        "colab_type": "code",
        "colab": {}
      },
      "source": [
        "import pandas as pd\n",
        "import numpy as np\n",
        "from scipy.spatial import distance"
      ],
      "execution_count": 0,
      "outputs": []
    },
    {
      "cell_type": "markdown",
      "metadata": {
        "id": "Wj-Hg5ucXQji",
        "colab_type": "text"
      },
      "source": [
        "### **Loading Data**"
      ]
    },
    {
      "cell_type": "code",
      "metadata": {
        "id": "Nw4DDKLHpe9T",
        "colab_type": "code",
        "outputId": "109d7ed5-2e08-46a0-9b1f-aca6652e009d",
        "colab": {
          "base_uri": "https://localhost:8080/",
          "height": 111
        }
      },
      "source": [
        "from sklearn.datasets import load_iris\n",
        "data = load_iris()\n",
        "df = pd.DataFrame(data[\"data\"])\n",
        "df[\"target\"] = data.target\n",
        "\n",
        "#### get stratified Dataset from orginal data\n",
        "from sklearn.model_selection import train_test_split\n",
        "x_train, x_test, y_train, y_test = train_test_split(df[df.columns.difference(['target'])], df[\"target\"], stratify=df[\"target\"], \\\n",
        "                                                    test_size=90, random_state=28)\n",
        "x_train.shape, x_test.shape , y_train.shape , y_test.shape\n",
        "#store it in a dataframe\n",
        "df = pd.DataFrame(x_train)\n",
        "df.head(2)"
      ],
      "execution_count": 12,
      "outputs": [
        {
          "output_type": "execute_result",
          "data": {
            "text/html": [
              "<div>\n",
              "<style scoped>\n",
              "    .dataframe tbody tr th:only-of-type {\n",
              "        vertical-align: middle;\n",
              "    }\n",
              "\n",
              "    .dataframe tbody tr th {\n",
              "        vertical-align: top;\n",
              "    }\n",
              "\n",
              "    .dataframe thead th {\n",
              "        text-align: right;\n",
              "    }\n",
              "</style>\n",
              "<table border=\"1\" class=\"dataframe\">\n",
              "  <thead>\n",
              "    <tr style=\"text-align: right;\">\n",
              "      <th></th>\n",
              "      <th>0</th>\n",
              "      <th>1</th>\n",
              "      <th>2</th>\n",
              "      <th>3</th>\n",
              "    </tr>\n",
              "  </thead>\n",
              "  <tbody>\n",
              "    <tr>\n",
              "      <th>31</th>\n",
              "      <td>5.4</td>\n",
              "      <td>3.4</td>\n",
              "      <td>1.5</td>\n",
              "      <td>0.4</td>\n",
              "    </tr>\n",
              "    <tr>\n",
              "      <th>80</th>\n",
              "      <td>5.5</td>\n",
              "      <td>2.4</td>\n",
              "      <td>3.8</td>\n",
              "      <td>1.1</td>\n",
              "    </tr>\n",
              "  </tbody>\n",
              "</table>\n",
              "</div>"
            ],
            "text/plain": [
              "      0    1    2    3\n",
              "31  5.4  3.4  1.5  0.4\n",
              "80  5.5  2.4  3.8  1.1"
            ]
          },
          "metadata": {
            "tags": []
          },
          "execution_count": 12
        }
      ]
    },
    {
      "cell_type": "markdown",
      "metadata": {
        "id": "un2IBFkWkqr_",
        "colab_type": "text"
      },
      "source": [
        "\n",
        "### **Steps for Agglomerative clustering:**\n",
        "\n",
        "**1)** Create a hash table to store all \"clusters\" --> \"points\" (serves as reference during implementation).\n",
        "\n",
        "**2)** Create an empty *similarity_matrix* (or) *proximity_matrix*.\n",
        "\n",
        "**3)** Calculate intra cluster distances/proximities and store values in *similarity_matrix*.\n",
        "\n",
        "**4)** These steps to be followed.\n",
        ">> Combine any 2 close clusters into single cluster and add it to matrix.\n",
        "\n",
        ">> Remove those 2 clusters from matrix and **Update** *similarity_matrix*.\n",
        "\n",
        "**5)** Recompute intra cluster distances/proximities of similarity_matrix Since *similarity_matrix* is updated.\n",
        "\n",
        "6) Repeat step 3, 4 & 5 untill we get n_clusters(input_param).\n"
      ]
    },
    {
      "cell_type": "markdown",
      "metadata": {
        "id": "7q-RwwlDn3fg",
        "colab_type": "text"
      },
      "source": [
        "### **Implementation**"
      ]
    },
    {
      "cell_type": "code",
      "metadata": {
        "id": "6kqdJumrLvOS",
        "colab_type": "code",
        "colab": {}
      },
      "source": [
        "class Distance:\n",
        "    \"\"\"\n",
        "    This class 'Distance' has methods, calculates distance metrics like \"euclidean\", \"manhattan\", \"cosine\", \"minkowski\"\n",
        "    These methods be called by creating object like Distance().euclidean_distance(point1, point2)\n",
        "    Inputs: point1, point2.\n",
        "    Output: return distance b/w points.\n",
        "    \"\"\"\n",
        "    def __init__(self):\n",
        "        pass\n",
        "    def euclidean_distance(self, point1, point2):\n",
        "        return distance.euclidean(point1, point2)\n",
        "\n",
        "    def manhattan_distance(self, point1, point2):\n",
        "        return distance.cityblock(point1, point2)\n",
        "\n",
        "    def cosine_distance(self, point1, point2):\n",
        "        return distance.cosine(point1, point2)\n",
        "\n",
        "    def minkowski_distance(self, point1, point2):        \n",
        "        return distance.minkowski(point1, point2)\n"
      ],
      "execution_count": 0,
      "outputs": []
    },
    {
      "cell_type": "code",
      "metadata": {
        "id": "yLKUVupWpfYj",
        "colab_type": "code",
        "colab": {}
      },
      "source": [
        "def intra_cluster_distance(cluster1, cluster2, linkage=\"ward\", distance_metric=\"euclidean\"):\n",
        "    \"\"\"    \n",
        "    This will take two clusters as inputs and returns the distance/proximity between those clusters.\n",
        "    1) cluster1 , cluster2 = list of points (i.e. lists of list)\n",
        "       These are input params to br provided.\n",
        "    2) distance_metric= str and default =\"Euclidean\"\n",
        "       We can also use \"euclidean\", \"cosine\", \"manhattan\".\n",
        "    3) linkage= str , default=\"ward\"(nothing but sum of squared distances).\n",
        "        This is used to specify the measuring criteria of intra cluster distance(i.e. distance b/w two clusters).\n",
        "        we can also use \"min\", \"max\", \"average\", \"ward\"\n",
        "    \"\"\"\n",
        "    if distance_metric==\"euclidean\":\n",
        "        dist_obj= Distance().euclidean_distance\n",
        "    elif distance_metric==\"cosine\":\n",
        "        dist_obj= Distance().cosine_distance\n",
        "    elif distance_metric==\"manhattan\":\n",
        "        dist_obj= Distance().manhattan_distance\n",
        "    elif distance_metric==\"minkowski\":\n",
        "        dist_obj= Distance().minkowski_distance\n",
        "\n",
        "    visited = set()\n",
        "    sum=0\n",
        "    mini=float(\"inf\")\n",
        "    maxi=float(\"-inf\")        \n",
        "    for point1 in cluster1:\n",
        "        for point2 in cluster2:                        \n",
        "            if linkage==\"min\":\n",
        "                mini = dist_obj(point1, point2) if dist_obj(point1, point2)<mini else mini\n",
        "            elif linkage==\"max\":\n",
        "                maxi = dist_obj(point1, point2) if dist_obj(point1, point2)>maxi else maxi\n",
        "            elif linkage==\"average\":\n",
        "                sum += dist_obj(point1, point2)\n",
        "            elif linkage==\"ward\":\n",
        "                sum += pow(dist_obj(point1, point2),2)            \n",
        "\n",
        "    if linkage==\"min\":\n",
        "        return mini \n",
        "    elif linkage==\"max\":\n",
        "        return maxi\n",
        "    elif linkage==\"average\":\n",
        "        return sum/(len(cluster1)*len(cluster2)) \n",
        "    elif linkage==\"ward\":\n",
        "        return sum/(len(cluster1)*len(cluster2)) "
      ],
      "execution_count": 0,
      "outputs": []
    },
    {
      "cell_type": "code",
      "metadata": {
        "id": "eabTxRAEfm3U",
        "colab_type": "code",
        "colab": {}
      },
      "source": [
        "def create_similarity_matrix(df):\n",
        "    \"\"\"\n",
        "    This is also called as proximity matrix, to store the distances between each cluster(i.e point to point).\n",
        "    Since each point is considered as a cluster in Agglomerative Clustering.\n",
        "    Input: DataFrame with out class labels\n",
        "    returns similarity_matrix after initialisation with all 0's.\n",
        "    \"\"\"\n",
        "    no_of_points = df.shape[0]\n",
        "    columns = list(map(lambda x:\"C\"+str(x), range(0,no_of_points)))\n",
        "    indices = list(map(lambda x:\"C\"+str(x), range(0,no_of_points)))\n",
        "    proximity_matrix = pd.DataFrame(columns=columns, index=indices)\n",
        "    proximity_matrix = proximity_matrix.fillna(0)\n",
        "    return proximity_matrix\n",
        "\n",
        "def update_similarity_matrix(proximity_matrix, hash_table, closest_clusters):\n",
        "    \"\"\"\n",
        "    INPUT: closest_clusters=(C1, C2) stores names of 2 close clusters.\n",
        "\n",
        "    -Combine those 2 close clusters and Add it as a new empty row,col to similarity_matrix.\n",
        "    -Drop that 2 close clusters from proximity_matrix.    \n",
        "    - Do the same updation process for hash_table also\n",
        "    OUTPUT: Returns updated similarity_matrix & hash_table.\n",
        "    \"\"\"\n",
        "    new_cluster_name = \"C\"+\"\".join(closest_clusters).replace(\"C\",\"\")\n",
        "    # updating hash_table dictionary\n",
        "    hash_table[new_cluster_name] = hash_table[closest_clusters[0]]+hash_table[closest_clusters[1]] \n",
        "    hash_table.pop(closest_clusters[0])\n",
        "    hash_table.pop(closest_clusters[1])\n",
        "    # removing row, col \n",
        "    proximity_matrix = proximity_matrix.drop(closest_clusters, axis=1) # removes cols\n",
        "    proximity_matrix = proximity_matrix.drop(closest_clusters, axis=0) #removes rows\n",
        "    # adding new row, new col\n",
        "    proximity_matrix.loc[new_cluster_name] = [0]*proximity_matrix.shape[1]\n",
        "    proximity_matrix[new_cluster_name] = 0\n",
        "\n",
        "    return proximity_matrix, hash_table\n",
        "\n",
        "def recompute_similarity_matrix(proximity_matrix):\n",
        "    \"\"\"\n",
        "    Re-compute distances and fill those gaps in the updated similarity_matrix.\n",
        "    \"\"\"\n",
        "    for col in proximity_matrix.columns:  \n",
        "        for row in proximity_matrix.index:\n",
        "            proximity_matrix[col][row] = intra_cluster_distance(hash_table[col], hash_table[row])\n",
        "    return proximity_matrix"
      ],
      "execution_count": 0,
      "outputs": []
    },
    {
      "cell_type": "code",
      "metadata": {
        "id": "Z5zasQqXobD1",
        "colab_type": "code",
        "colab": {}
      },
      "source": [
        "# step-1\n",
        "rows_list=[]\n",
        "for row in range(df.shape[0]):\n",
        "    rows_list.append([tuple(df.iloc[row])]) \n",
        "\n",
        "hash_table = dict(zip( list(map(lambda x:\"C\"+str(x), range(len(df)))), \\\n",
        "                      rows_list))"
      ],
      "execution_count": 0,
      "outputs": []
    },
    {
      "cell_type": "markdown",
      "metadata": {
        "id": "szty0uSdItOh",
        "colab_type": "text"
      },
      "source": [
        "Output format of **hash_table**:\n",
        "```\n",
        "All clusters stores a list of points(d-dim).\n",
        "{'C0': [(5.4, 3.4, 1.5, 0.4)],\n",
        " 'C1': [(5.5, 2.4, 3.8, 1.1)],\n",
        " 'C2': [(7.0, 3.2, 4.7, 1.4)],\n",
        "  .\n",
        "  .\n",
        " 'Ci': [<Xi1,Xi2,......,Xid>],\n",
        "  .\n",
        "  .\n",
        " 'Cn': [<Xn1,Xn2,......,Xnd>]\n",
        "}\n",
        "```\n",
        "\n",
        "\n"
      ]
    },
    {
      "cell_type": "code",
      "metadata": {
        "id": "AADS2N-O4Yt9",
        "colab_type": "code",
        "colab": {}
      },
      "source": [
        "# Input parameter\n",
        "n_clusters=3"
      ],
      "execution_count": 0,
      "outputs": []
    },
    {
      "cell_type": "code",
      "metadata": {
        "id": "i3VHQ-N4kD1N",
        "colab_type": "code",
        "colab": {}
      },
      "source": [
        "# step-2\n",
        "proximity_matrix = create_similarity_matrix(df)\n",
        "\n",
        "# Repeat 3,4,5 steps, untill step-6 satisfied.\n",
        "while proximity_matrix.shape[1]>n_clusters:\n",
        "    least_dist_bw_clusters = float(\"inf\")\n",
        "    closest_clusters =[]\n",
        "    for col in proximity_matrix.columns:\n",
        "        for row in proximity_matrix.index:\n",
        "            proximity_matrix[col][row] = intra_cluster_distance(hash_table[col], hash_table[row])\n",
        "            if col!=row and proximity_matrix[col][row]<least_dist_bw_clusters:\n",
        "                least_dist_bw_clusters = proximity_matrix[col][row]\n",
        "                closest_clusters = [col, row]\n",
        "            #print(intra_cluster_distance(hash_table[col], hash_table[row]) , end=\"|| \")\n",
        "    \n",
        "    # updating similarity_matrix\n",
        "    proximity_matrix, hash_table = update_similarity_matrix(proximity_matrix, hash_table, closest_clusters)\n",
        "    # recomputing similarity matrix, since, new cluster is added\n",
        "    proximity_matrix = recompute_similarity_matrix(proximity_matrix)\n",
        "    "
      ],
      "execution_count": 0,
      "outputs": []
    },
    {
      "cell_type": "code",
      "metadata": {
        "id": "r4TbRXQewO81",
        "colab_type": "code",
        "outputId": "dee67d7a-6c5d-4a6f-99ec-22e4c1460caa",
        "colab": {
          "base_uri": "https://localhost:8080/",
          "height": 34
        },
        "cellView": "both"
      },
      "source": [
        "print(\"No of points in each cluster : \", [len(hash_table[i]) for i in hash_table])"
      ],
      "execution_count": 20,
      "outputs": [
        {
          "output_type": "stream",
          "text": [
            "No of points in each cluster :  [19, 24, 14]\n"
          ],
          "name": "stdout"
        }
      ]
    },
    {
      "cell_type": "markdown",
      "metadata": {
        "id": "CFR4yDBMLkY1",
        "colab_type": "text"
      },
      "source": [
        "After running the algorithm, **hash_table** looks like this.\n",
        "```\n",
        "Dictionary with key=clusterid & value = list of pts E clusterid\n",
        "\n",
        "{'C114550326171821223942581013': \n",
        " [(6.9, 3.1, 5.1, 2.3),\n",
        "  (7.0, 3.2, 4.7, 1.4),\n",
        "  (6.2, 2.8, 4.8, 1.8)],\n",
        " 'C354147525606141523303233343637385355': \n",
        " [(5.4, 3.9, 1.3, 0.4),\n",
        "  (4.7, 3.2, 1.6, 0.2),\n",
        "  (5.1, 3.7, 1.5, 0.4)],\n",
        " 'C59122471928485457162029312527404344464951': \n",
        " [(6.1, 2.8, 4.0, 1.3),\n",
        "  (5.5, 2.4, 3.8, 1.1),\n",
        "  (5.8, 2.6, 4.0, 1.2)]}\n",
        "```\n",
        "\n"
      ]
    },
    {
      "cell_type": "code",
      "metadata": {
        "id": "bJHE1C_SoHPT",
        "colab_type": "code",
        "outputId": "1e7db5a9-dbd4-4d0d-c1d6-81d35155d46a",
        "colab": {
          "base_uri": "https://localhost:8080/",
          "height": 162
        }
      },
      "source": [
        "# This is similarity matrix, after running algorithm.\n",
        "proximity_matrix"
      ],
      "execution_count": 22,
      "outputs": [
        {
          "output_type": "execute_result",
          "data": {
            "text/html": [
              "<div>\n",
              "<style scoped>\n",
              "    .dataframe tbody tr th:only-of-type {\n",
              "        vertical-align: middle;\n",
              "    }\n",
              "\n",
              "    .dataframe tbody tr th {\n",
              "        vertical-align: top;\n",
              "    }\n",
              "\n",
              "    .dataframe thead th {\n",
              "        text-align: right;\n",
              "    }\n",
              "</style>\n",
              "<table border=\"1\" class=\"dataframe\">\n",
              "  <thead>\n",
              "    <tr style=\"text-align: right;\">\n",
              "      <th></th>\n",
              "      <th>C354147525606141523303233343637385355</th>\n",
              "      <th>C59122471928485457162029312527404344464951</th>\n",
              "      <th>C114550326171821223942581013</th>\n",
              "    </tr>\n",
              "  </thead>\n",
              "  <tbody>\n",
              "    <tr>\n",
              "      <th>C354147525606141523303233343637385355</th>\n",
              "      <td>0</td>\n",
              "      <td>12</td>\n",
              "      <td>24</td>\n",
              "    </tr>\n",
              "    <tr>\n",
              "      <th>C59122471928485457162029312527404344464951</th>\n",
              "      <td>12</td>\n",
              "      <td>1</td>\n",
              "      <td>3</td>\n",
              "    </tr>\n",
              "    <tr>\n",
              "      <th>C114550326171821223942581013</th>\n",
              "      <td>24</td>\n",
              "      <td>3</td>\n",
              "      <td>1</td>\n",
              "    </tr>\n",
              "  </tbody>\n",
              "</table>\n",
              "</div>"
            ],
            "text/plain": [
              "                                            C354147525606141523303233343637385355  ...  C114550326171821223942581013\n",
              "C354147525606141523303233343637385355                                           0  ...                            24\n",
              "C59122471928485457162029312527404344464951                                     12  ...                             3\n",
              "C114550326171821223942581013                                                   24  ...                             1\n",
              "\n",
              "[3 rows x 3 columns]"
            ]
          },
          "metadata": {
            "tags": []
          },
          "execution_count": 22
        }
      ]
    },
    {
      "cell_type": "code",
      "metadata": {
        "id": "4CYWSx86OMCp",
        "colab_type": "code",
        "colab": {}
      },
      "source": [
        ""
      ],
      "execution_count": 0,
      "outputs": []
    },
    {
      "cell_type": "markdown",
      "metadata": {
        "id": "jP2Tc8a3IV-0",
        "colab_type": "text"
      },
      "source": [
        "### **Visualization - Scatter plots**\n",
        "For visualization purpose, considered only two dimensions"
      ]
    },
    {
      "cell_type": "markdown",
      "metadata": {
        "id": "8aUSQG3g4opW",
        "colab_type": "text"
      },
      "source": [
        "#### **Orginal Data**"
      ]
    },
    {
      "cell_type": "code",
      "metadata": {
        "id": "m7hy-wW9wYgR",
        "colab_type": "code",
        "outputId": "9baf0fca-c6f9-4fec-cd18-43f738041c82",
        "colab": {
          "base_uri": "https://localhost:8080/",
          "height": 281
        },
        "cellView": "form"
      },
      "source": [
        "#@title\n",
        "import matplotlib.pyplot as plt\n",
        "import seaborn as sns\n",
        "\n",
        "tdf = pd.DataFrame()\n",
        "tdf[\"x\"] = df.iloc[:,0]\n",
        "tdf[\"y\"] = df.iloc[:,1]\n",
        "tdf[\"hue\"] = y_train\n",
        "\n",
        "ax = sns.scatterplot(x=\"x\", y=\"y\", hue=\"hue\", data =tdf, style=\"hue\", palette=\"Set1\")\n",
        "plt.show()"
      ],
      "execution_count": 23,
      "outputs": [
        {
          "output_type": "display_data",
          "data": {
            "image/png": "[encoded data removed]",
            "text/plain": [
              "<Figure size 432x288 with 1 Axes>"
            ]
          },
          "metadata": {
            "tags": []
          }
        }
      ]
    },
    {
      "cell_type": "markdown",
      "metadata": {
        "id": "zg6fJEdI4-9S",
        "colab_type": "text"
      },
      "source": [
        "#### **sklearn's Agglomerative clustering**"
      ]
    },
    {
      "cell_type": "code",
      "metadata": {
        "id": "4BLrn43w4vN3",
        "colab_type": "code",
        "outputId": "7aa074ab-9046-4bce-ab59-aeef78ac9dad",
        "colab": {
          "base_uri": "https://localhost:8080/",
          "height": 281
        },
        "cellView": "form"
      },
      "source": [
        "#@title\n",
        "from sklearn.cluster import AgglomerativeClustering\n",
        "clustering = AgglomerativeClustering(n_clusters=3).fit(df.iloc[:,:2])\n",
        "clustering.labels_\n",
        "\n",
        "mdf = pd.DataFrame()\n",
        "mdf[\"x\"] = df.iloc[:,0]\n",
        "mdf[\"y\"] = df.iloc[:,1]\n",
        "mdf[\"hue\"] = clustering.labels_\n",
        "\n",
        "ax = sns.scatterplot(x=\"x\", y=\"y\", hue=\"hue\", data =mdf, style=\"hue\", palette=\"Set1\")\n",
        "plt.show()"
      ],
      "execution_count": 24,
      "outputs": [
        {
          "output_type": "display_data",
          "data": {
            "image/png": "[encoded data removed]",
            "text/plain": [
              "<Figure size 432x288 with 1 Axes>"
            ]
          },
          "metadata": {
            "tags": []
          }
        }
      ]
    },
    {
      "cell_type": "markdown",
      "metadata": {
        "id": "xBe1yjp15qmh",
        "colab_type": "text"
      },
      "source": [
        "#### **Scratch Code's Agglomerative clustering**"
      ]
    },
    {
      "cell_type": "code",
      "metadata": {
        "id": "6xyd0s-UwYbv",
        "colab_type": "code",
        "outputId": "5d6d82bb-8330-4798-90f1-319c9072ab8b",
        "colab": {
          "base_uri": "https://localhost:8080/",
          "height": 281
        },
        "cellView": "form"
      },
      "source": [
        "#@title\n",
        "lst = []\n",
        "cnt=0\n",
        "for key in hash_table:  \n",
        "  for i in hash_table[key]:\n",
        "    i=list(i)\n",
        "    i.append(cnt)    \n",
        "    lst.append(i)\n",
        "  cnt+=1\n",
        "adf = pd.DataFrame(np.array(lst))\n",
        "rdf= pd.DataFrame()\n",
        "rdf[\"x\"] = adf.iloc[:,0]\n",
        "rdf[\"y\"] = adf.iloc[:,1]\n",
        "rdf[\"hue\"] = adf.iloc[:,-1]\n",
        "\n",
        "ax = sns.scatterplot(x=\"x\", y=\"y\", hue=\"hue\", data =rdf, style=\"hue\", palette=\"Set1\")\n",
        "plt.show()\n",
        "\n"
      ],
      "execution_count": 25,
      "outputs": [
        {
          "output_type": "display_data",
          "data": {
            "image/png": "[encoded data removed]",
            "text/plain": [
              "<Figure size 432x288 with 1 Axes>"
            ]
          },
          "metadata": {
            "tags": []
          }
        }
      ]
    },
    {
      "cell_type": "code",
      "metadata": {
        "id": "P5li4VI84Gm9",
        "colab_type": "code",
        "colab": {}
      },
      "source": [
        ""
      ],
      "execution_count": 0,
      "outputs": []
    }
  ]
}