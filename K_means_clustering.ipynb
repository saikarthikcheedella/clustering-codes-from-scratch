{
  "nbformat": 4,
  "nbformat_minor": 0,
  "metadata": {
    "colab": {
      "name": "K-means_clustering.ipynb",
      "provenance": [],
      "collapsed_sections": [],
      "toc_visible": true
    },
    "kernelspec": {
      "name": "python3",
      "display_name": "Python 3"
    }
  },
  "cells": [
    {
      "cell_type": "markdown",
      "metadata": {
        "id": "DeZNu8W1Adk5",
        "colab_type": "text"
      },
      "source": [
        "# **Clustering using K-Means**\n",
        "\n"
      ]
    },
    {
      "cell_type": "code",
      "metadata": {
        "id": "dYJs8pn9oaEo",
        "colab_type": "code",
        "colab": {}
      },
      "source": [
        "import pandas as pd\n",
        "import numpy as np\n",
        "from scipy.spatial import distance"
      ],
      "execution_count": 0,
      "outputs": []
    },
    {
      "cell_type": "markdown",
      "metadata": {
        "id": "Wj-Hg5ucXQji",
        "colab_type": "text"
      },
      "source": [
        "### **Loading Data**"
      ]
    },
    {
      "cell_type": "code",
      "metadata": {
        "id": "_zXXhynN2c4J",
        "colab_type": "code",
        "colab": {}
      },
      "source": [
        "from sklearn.datasets import load_iris\n",
        "data = load_iris()\n",
        "df = pd.DataFrame(data[\"data\"])\n",
        "df[\"target\"] = data.target\n",
        "\n",
        "#### get stratified Dataset from orginal data\n",
        "from sklearn.model_selection import train_test_split\n",
        "x_train, x_test, y_train, y_test = train_test_split(df[df.columns.difference(['target'])], df[\"target\"], stratify=df[\"target\"], \\\n",
        "                                                    test_size=90, random_state=28)\n",
        "x_train.shape, x_test.shape , y_train.shape , y_test.shape\n",
        "# store it in a dataframe 'df'\n",
        "df = pd.DataFrame(x_train)\n",
        "# maintain a list of all points\n",
        "data= []\n",
        "for index in range(df.shape[0]):\n",
        "    data.append(tuple(df.iloc[index]))"
      ],
      "execution_count": 0,
      "outputs": []
    },
    {
      "cell_type": "code",
      "metadata": {
        "id": "ewkcD8QfigZz",
        "colab_type": "code",
        "outputId": "c6a89d50-a33d-4a43-d496-1c81c7f40fa1",
        "colab": {
          "base_uri": "https://localhost:8080/",
          "height": 306
        }
      },
      "source": [
        "display(df.head())\n",
        "print('sample format of data : ')\n",
        "data[:5]"
      ],
      "execution_count": 283,
      "outputs": [
        {
          "output_type": "display_data",
          "data": {
            "text/html": [
              "<div>\n",
              "<style scoped>\n",
              "    .dataframe tbody tr th:only-of-type {\n",
              "        vertical-align: middle;\n",
              "    }\n",
              "\n",
              "    .dataframe tbody tr th {\n",
              "        vertical-align: top;\n",
              "    }\n",
              "\n",
              "    .dataframe thead th {\n",
              "        text-align: right;\n",
              "    }\n",
              "</style>\n",
              "<table border=\"1\" class=\"dataframe\">\n",
              "  <thead>\n",
              "    <tr style=\"text-align: right;\">\n",
              "      <th></th>\n",
              "      <th>0</th>\n",
              "      <th>1</th>\n",
              "      <th>2</th>\n",
              "      <th>3</th>\n",
              "    </tr>\n",
              "  </thead>\n",
              "  <tbody>\n",
              "    <tr>\n",
              "      <th>31</th>\n",
              "      <td>5.4</td>\n",
              "      <td>3.4</td>\n",
              "      <td>1.5</td>\n",
              "      <td>0.4</td>\n",
              "    </tr>\n",
              "    <tr>\n",
              "      <th>80</th>\n",
              "      <td>5.5</td>\n",
              "      <td>2.4</td>\n",
              "      <td>3.8</td>\n",
              "      <td>1.1</td>\n",
              "    </tr>\n",
              "    <tr>\n",
              "      <th>92</th>\n",
              "      <td>5.8</td>\n",
              "      <td>2.6</td>\n",
              "      <td>4.0</td>\n",
              "      <td>1.2</td>\n",
              "    </tr>\n",
              "    <tr>\n",
              "      <th>109</th>\n",
              "      <td>7.2</td>\n",
              "      <td>3.6</td>\n",
              "      <td>6.1</td>\n",
              "      <td>2.5</td>\n",
              "    </tr>\n",
              "    <tr>\n",
              "      <th>64</th>\n",
              "      <td>5.6</td>\n",
              "      <td>2.9</td>\n",
              "      <td>3.6</td>\n",
              "      <td>1.3</td>\n",
              "    </tr>\n",
              "  </tbody>\n",
              "</table>\n",
              "</div>"
            ],
            "text/plain": [
              "       0    1    2    3\n",
              "31   5.4  3.4  1.5  0.4\n",
              "80   5.5  2.4  3.8  1.1\n",
              "92   5.8  2.6  4.0  1.2\n",
              "109  7.2  3.6  6.1  2.5\n",
              "64   5.6  2.9  3.6  1.3"
            ]
          },
          "metadata": {
            "tags": []
          }
        },
        {
          "output_type": "stream",
          "text": [
            "sample format of data : \n"
          ],
          "name": "stdout"
        },
        {
          "output_type": "execute_result",
          "data": {
            "text/plain": [
              "[(5.4, 3.4, 1.5, 0.4),\n",
              " (5.5, 2.4, 3.8, 1.1),\n",
              " (5.8, 2.6, 4.0, 1.2),\n",
              " (7.2, 3.6, 6.1, 2.5),\n",
              " (5.6, 2.9, 3.6, 1.3)]"
            ]
          },
          "metadata": {
            "tags": []
          },
          "execution_count": 283
        }
      ]
    },
    {
      "cell_type": "markdown",
      "metadata": {
        "id": "7FC3RbmWRhbN",
        "colab_type": "text"
      },
      "source": [
        "### **Steps for K-Means Algorithm**:\n",
        "**1)** Initialize 'k' centroids by picking randomly/choosively from data.\n",
        "\n",
        "**2)** Assign data points to their corresponding clusters, based on the distance between centroids and each data point.\n",
        "\n",
        "**3)** Shift/Re-initialize the centroids Ci, to the center of its cluster.\n",
        "\n",
        "**4)** Repeat the steps 2 and 3 untill the centroids aren't moving any more."
      ]
    },
    {
      "cell_type": "markdown",
      "metadata": {
        "id": "2a9LMART0YYW",
        "colab_type": "text"
      },
      "source": [
        "### **Implementation**"
      ]
    },
    {
      "cell_type": "code",
      "metadata": {
        "id": "lZiNlEvRfOLg",
        "colab_type": "code",
        "colab": {}
      },
      "source": [
        "class Distance:\n",
        "    \"\"\"\n",
        "    This class 'Distance' has methods, calculates distance metrics like \"euclidean\", \"manhattan\", \"cosine\", \"minkowski\"\n",
        "    These methods be called by creating object like Distance().euclidean_distance(point1, point2)\n",
        "    Inputs: point1, point2.\n",
        "    Output: return distance b/w points.\n",
        "    \"\"\"\n",
        "    def __init__(self):\n",
        "        pass        \n",
        "    def euclidean_distance(self, point1, point2):\n",
        "        return distance.euclidean(point1, point2)\n",
        "    def manhattan_distance(self, point1, point2):\n",
        "        return distance.cityblock(point1, point2)\n",
        "    def cosine_distance(self, point1, point2):\n",
        "        return distance.cosine(point1, point2)\n",
        "    def minkowski_distance(self, point1, point2):        \n",
        "        return distance.minkowski(point1, point2)"
      ],
      "execution_count": 0,
      "outputs": []
    },
    {
      "cell_type": "code",
      "metadata": {
        "id": "zf1Zlk0iQvdq",
        "colab_type": "code",
        "colab": {}
      },
      "source": [
        "def initialize_centroids(data, n_clusters=3):\n",
        "    \"\"\"\n",
        "    Input: Data points, n_clusters\n",
        "    Output: Dictionary of size 'n_clusters, Where key='centroid' and value=\"[] empty list\".\n",
        "    \"\"\"\n",
        "    length = len(data)\n",
        "    clusters={}\n",
        "    for index in np.random.randint(0, length, size=(1,n_clusters))[0]:\n",
        "        clusters[data[index]] = []        \n",
        "    return clusters\n",
        "    \n",
        "def assign_points_to_centroids(data, clusters, distance_metric=\"euclidean\"):\n",
        "    \"\"\"\n",
        "    Input: Data points, Clusters(dict with key=centroid, val=[points......]) , distance_metric=['euclidean','cosine','manhattan','minkowski'].\n",
        "    Output: Dictionary, Where key='centroid' and value=\"list of points that're close to that centroid\".\n",
        "    \"\"\"    \n",
        "    if distance_metric==\"euclidean\":\n",
        "        dist_obj= Distance().euclidean_distance\n",
        "    elif distance_metric==\"cosine\":\n",
        "        dist_obj= Distance().cosine_distance\n",
        "    elif distance_metric==\"manhattan\":\n",
        "        dist_obj= Distance().manhattan_distance\n",
        "    elif distance_metric==\"minkowski\":\n",
        "        dist_obj= Distance().minkowski_distance\n",
        "    \n",
        "    centroids = list(clusters.keys())\n",
        "    for point in data:\n",
        "        close_centroid = ()\n",
        "        min_dist = float(\"inf\")\n",
        "        if point not in centroids:\n",
        "            for centroid in centroids: \n",
        "                curr_dist = dist_obj(point,centroid)\n",
        "                if curr_dist < min_dist:\n",
        "                    min_dist = curr_dist\n",
        "                    close_centroid = centroid  \n",
        "            clusters[close_centroid].append(point)            \n",
        "    return clusters\n",
        "    \n",
        "def update_centroids(clusters):\n",
        "    \"\"\"\n",
        "    Input: Clusters(dict with key=centroid, val=[points......])\n",
        "    Output: Dictionary, Where key='updated centroid' and value=\"[]\"(empty list)\n",
        "            Also returns whether to stop converging (or) not.      \n",
        "    \"\"\"\n",
        "    new_clusters={}    \n",
        "    for centroid in clusters:\n",
        "        # finding mean of those points\n",
        "        new_clusters[ tuple(np.mean(clusters[centroid], axis=0)) ] = []\n",
        "    return new_clusters"
      ],
      "execution_count": 0,
      "outputs": []
    },
    {
      "cell_type": "markdown",
      "metadata": {
        "id": "YWW_ZP_50wkd",
        "colab_type": "text"
      },
      "source": [
        "### **pseudo code for K-Means**\n",
        "\n",
        "initialize_centroids(args)\n",
        "\n",
        "while max_iter:\n",
        ">> assign_points_to_centroids(args)\n",
        "\n",
        ">> update_centroids(args)\n",
        "\n",
        "assign_points_to_centroids(args)\n",
        "\n"
      ]
    },
    {
      "cell_type": "code",
      "metadata": {
        "id": "Ec8YXoWUUXDX",
        "colab_type": "code",
        "colab": {}
      },
      "source": [
        "# Input parameter\n",
        "n_clusters = 3\n",
        "max_iter=300\n",
        "\n",
        "clusters = initialize_centroids(data, n_clusters)\n",
        "for i in range(max_iter=300):\n",
        "    clusters = assign_points_to_centroids(data, clusters)\n",
        "    clusters = update_centroids(clusters)\n",
        "clusters = assign_points_to_centroids(data, clusters)"
      ],
      "execution_count": 0,
      "outputs": []
    },
    {
      "cell_type": "code",
      "metadata": {
        "id": "X6LwZPTrQvcv",
        "colab_type": "code",
        "outputId": "29183c11-2f81-411e-b05e-05d7d0bc5597",
        "colab": {
          "base_uri": "https://localhost:8080/",
          "height": 34
        }
      },
      "source": [
        "print(\"No of points in each cluster :\", [len(clusters[i]) for i in clusters])"
      ],
      "execution_count": 274,
      "outputs": [
        {
          "output_type": "stream",
          "text": [
            "No of points in each cluster : [20, 14, 26]\n"
          ],
          "name": "stdout"
        }
      ]
    },
    {
      "cell_type": "markdown",
      "metadata": {
        "id": "paliXqWm2mhE",
        "colab_type": "text"
      },
      "source": [
        "### **Visualization - Scatter plots**\n",
        "\n",
        "For visualization purpose, considered only two dimensions."
      ]
    },
    {
      "cell_type": "markdown",
      "metadata": {
        "id": "4cUFNaVQbs50",
        "colab_type": "text"
      },
      "source": [
        "#### Orginal Data"
      ]
    },
    {
      "cell_type": "code",
      "metadata": {
        "id": "jpOFF-U5VsoW",
        "colab_type": "code",
        "colab": {
          "base_uri": "https://localhost:8080/",
          "height": 279
        },
        "cellView": "form",
        "outputId": "f3574867-21e5-457e-bfe8-bf96ec8bc80b"
      },
      "source": [
        "#@title\n",
        "import matplotlib.pyplot as plt\n",
        "import seaborn as sns\n",
        "\n",
        "tdf = pd.DataFrame()\n",
        "tdf[\"x\"] = df.iloc[:,2]\n",
        "tdf[\"y\"] = df.iloc[:,3]\n",
        "tdf[\"hue\"] = y_train\n",
        "\n",
        "ax = sns.scatterplot(x=\"x\", y=\"y\", hue=\"hue\", data =tdf, style=\"hue\", palette=\"Set1\")\n",
        "plt.show()"
      ],
      "execution_count": 250,
      "outputs": [
        {
          "output_type": "display_data",
          "data": {
            "image/png": "[encoded data removed]",
            "text/plain": [
              "<Figure size 432x288 with 1 Axes>"
            ]
          },
          "metadata": {
            "tags": []
          }
        }
      ]
    },
    {
      "cell_type": "markdown",
      "metadata": {
        "id": "RV7dFP9Xb_kf",
        "colab_type": "text"
      },
      "source": [
        "#### sklearn's K-Means clustering"
      ]
    },
    {
      "cell_type": "code",
      "metadata": {
        "id": "vpervycFbqK7",
        "colab_type": "code",
        "colab": {
          "base_uri": "https://localhost:8080/",
          "height": 279
        },
        "cellView": "form",
        "outputId": "9303fb63-0d8f-4cb7-cd7e-d7587d2ce5cc"
      },
      "source": [
        "#@title\n",
        "from sklearn.cluster import KMeans\n",
        "clustering = KMeans(n_clusters=3).fit(df.iloc[:,2:])\n",
        "clustering.labels_\n",
        "\n",
        "mdf = pd.DataFrame()\n",
        "mdf[\"x\"] = df.iloc[:,2]\n",
        "mdf[\"y\"] = df.iloc[:,3]\n",
        "mdf[\"hue\"] = clustering.labels_\n",
        "\n",
        "ax = sns.scatterplot(x=\"x\", y=\"y\", hue=\"hue\", data =mdf, style=\"hue\", palette=\"Set1\")\n",
        "plt.show()"
      ],
      "execution_count": 251,
      "outputs": [
        {
          "output_type": "display_data",
          "data": {
            "image/png": "[encoded data removed]",
            "text/plain": [
              "<Figure size 432x288 with 1 Axes>"
            ]
          },
          "metadata": {
            "tags": []
          }
        }
      ]
    },
    {
      "cell_type": "markdown",
      "metadata": {
        "id": "31HYrI97dIJu",
        "colab_type": "text"
      },
      "source": [
        "#### Scratch Code K-Means algorithm\n",
        "\n",
        "The point in the midst of each cluster is a 'Centroid' of that cluster."
      ]
    },
    {
      "cell_type": "code",
      "metadata": {
        "id": "r1SbGzC6dAHs",
        "colab_type": "code",
        "colab": {
          "base_uri": "https://localhost:8080/",
          "height": 279
        },
        "cellView": "form",
        "outputId": "688ac92e-83df-40a7-a5c2-e546dbef5816"
      },
      "source": [
        "#@title\n",
        "lst = []\n",
        "excess_x=[]\n",
        "excess_y=[]\n",
        "cnt=0\n",
        "xtra=10\n",
        "for key in clusters:\n",
        "  for i in clusters[key]:\n",
        "    i=list(i)\n",
        "    i.append(cnt)\n",
        "    lst.append(i)\n",
        "  lst.append(key+(xtra,))\n",
        "  xtra+=1\n",
        "  cnt+=1\n",
        "adf = pd.DataFrame(np.array(lst))\n",
        "rdf= pd.DataFrame()\n",
        "rdf[\"x\"] = adf.iloc[:,2]\n",
        "rdf[\"y\"] = adf.iloc[:,3]\n",
        "rdf[\"hue\"] = adf.iloc[:,-1]\n",
        "\n",
        "ax = sns.scatterplot(x=\"x\", y=\"y\", hue=\"hue\", data =rdf, style=\"hue\", palette=\"Set1\")"
      ],
      "execution_count": 271,
      "outputs": [
        {
          "output_type": "display_data",
          "data": {
            "image/png": "[encoded data removed]",
            "text/plain": [
              "<Figure size 432x288 with 1 Axes>"
            ]
          },
          "metadata": {
            "tags": []
          }
        }
      ]
    }
  ]
}